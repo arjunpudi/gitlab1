{
 "cells": [
  {
   "cell_type": "code",
   "execution_count": 1,
   "id": "099f0576",
   "metadata": {},
   "outputs": [],
   "source": [
    "import numpy as np\n",
    "import matplotlib.pyplot as plt"
   ]
  },
  {
   "cell_type": "code",
   "execution_count": 2,
   "id": "8e52d2cb",
   "metadata": {},
   "outputs": [],
   "source": [
    "sample_size = 10\n"
   ]
  },
  {
   "cell_type": "code",
   "execution_count": 3,
   "id": "5c21d824",
   "metadata": {},
   "outputs": [],
   "source": [
    "n_rooms =np.random.randint(1,6,sample_size)\n",
    "n_wrooms =np.random.randint(1,4,sample_size)"
   ]
  },
  {
   "cell_type": "code",
   "execution_count": 4,
   "id": "e26e34c3",
   "metadata": {},
   "outputs": [
    {
     "data": {
      "text/plain": [
       "(array([5, 4, 1, 5, 5, 1, 3, 3, 4, 1]), array([3, 1, 1, 2, 1, 3, 3, 3, 1, 1]))"
      ]
     },
     "execution_count": 4,
     "metadata": {},
     "output_type": "execute_result"
    }
   ],
   "source": [
    "n_rooms, n_wrooms"
   ]
  },
  {
   "cell_type": "code",
   "execution_count": 5,
   "id": "db86345c",
   "metadata": {},
   "outputs": [],
   "source": [
    "w1_fixed = 5.8\n",
    "w2_fixed = 2.1"
   ]
  },
  {
   "cell_type": "code",
   "execution_count": 6,
   "id": "117608f4",
   "metadata": {},
   "outputs": [],
   "source": [
    "price = w1_fixed*n_rooms + w2_fixed*n_wrooms"
   ]
  },
  {
   "cell_type": "code",
   "execution_count": 7,
   "id": "0aca7f28",
   "metadata": {},
   "outputs": [
    {
     "data": {
      "text/plain": [
       "(array([3, 1, 1, 2, 1, 3, 3, 3, 1, 1]),\n",
       " array([5, 4, 1, 5, 5, 1, 3, 3, 4, 1]),\n",
       " array([35.3, 25.3,  7.9, 33.2, 31.1, 12.1, 23.7, 23.7, 25.3,  7.9]))"
      ]
     },
     "execution_count": 7,
     "metadata": {},
     "output_type": "execute_result"
    }
   ],
   "source": [
    "n_wrooms,n_rooms,price"
   ]
  },
  {
   "cell_type": "code",
   "execution_count": 8,
   "id": "94da1182",
   "metadata": {},
   "outputs": [],
   "source": [
    "w1 = 10.5\n",
    "w2 = 6.3"
   ]
  },
  {
   "cell_type": "code",
   "execution_count": 9,
   "id": "c02a992e",
   "metadata": {},
   "outputs": [],
   "source": [
    "LR = 0.01"
   ]
  },
  {
   "cell_type": "code",
   "execution_count": 10,
   "id": "b769d83b",
   "metadata": {},
   "outputs": [],
   "source": [
    "costs = []"
   ]
  },
  {
   "cell_type": "code",
   "execution_count": 55,
   "id": "10b59cac",
   "metadata": {},
   "outputs": [
    {
     "name": "stdout",
     "output_type": "stream",
     "text": [
      "1.0476506986387355\n"
     ]
    },
    {
     "data": {
      "text/plain": [
       "[<matplotlib.lines.Line2D at 0x2a164f9f670>]"
      ]
     },
     "execution_count": 55,
     "metadata": {},
     "output_type": "execute_result"
    },
    {
     "data": {
      "image/png": "[encoded data removed]",
      "text/plain": [
       "<Figure size 640x480 with 1 Axes>"
      ]
     },
     "metadata": {},
     "output_type": "display_data"
    }
   ],
   "source": [
    "y_hat = w1*n_rooms + w2*n_wrooms\n",
    "\n",
    "cost = sum((price - y_hat)**2)/sample_size\n",
    "costs.append(cost)\n",
    "w1 = w1-LR*sum((price - y_hat)*(-n_rooms))/sample_size\n",
    "w2 = w2-LR*sum((price - y_hat)*(-n_wrooms))/sample_size\n",
    "print(cost)\n",
    "plt.plot(costs)"
   ]
  },
  {
   "cell_type": "code",
   "execution_count": 56,
   "id": "3b9a902d",
   "metadata": {},
   "outputs": [
    {
     "data": {
      "text/plain": [
       "(5.8, 2.1)"
      ]
     },
     "execution_count": 56,
     "metadata": {},
     "output_type": "execute_result"
    }
   ],
   "source": [
    "w1_fixed, w2_fixed"
   ]
  },
  {
   "cell_type": "code",
   "execution_count": 57,
   "id": "481deefe",
   "metadata": {},
   "outputs": [
    {
     "data": {
      "text/plain": [
       "(5.385258364859941, 2.8939271130435325)"
      ]
     },
     "execution_count": 57,
     "metadata": {},
     "output_type": "execute_result"
    }
   ],
   "source": [
    "w1, w2"
   ]
  },
  {
   "cell_type": "code",
   "execution_count": null,
   "id": "dd0c3d22",
   "metadata": {},
   "outputs": [],
   "source": []
  }
 ],
 "metadata": {
  "kernelspec": {
   "display_name": "base",
   "language": "python",
   "name": "python3"
  },
  "language_info": {
   "codemirror_mode": {
    "name": "ipython",
    "version": 3
   },
   "file_extension": ".py",
   "mimetype": "text/x-python",
   "name": "python",
   "nbconvert_exporter": "python",
   "pygments_lexer": "ipython3",
   "version": "3.10.9"
  }
 },
 "nbformat": 4,
 "nbformat_minor": 5
}
